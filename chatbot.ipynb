{
 "cells": [
  {
   "cell_type": "code",
   "execution_count": 2,
   "id": "f5efafb2-6943-4c19-9139-bb05ca303847",
   "metadata": {},
   "outputs": [
    {
     "ename": "NameError",
     "evalue": "name 'HTML' is not defined",
     "output_type": "error",
     "traceback": [
      "\u001b[31m---------------------------------------------------------------------------\u001b[39m",
      "\u001b[31mNameError\u001b[39m                                 Traceback (most recent call last)",
      "\u001b[36mCell\u001b[39m\u001b[36m \u001b[39m\u001b[32mIn[2]\u001b[39m\u001b[32m, line 3\u001b[39m\n\u001b[32m      1\u001b[39m \u001b[38;5;28;01mimport\u001b[39;00m\u001b[38;5;250m \u001b[39m\u001b[34;01mipywidgets\u001b[39;00m\u001b[38;5;250m \u001b[39m\u001b[38;5;28;01mas\u001b[39;00m\u001b[38;5;250m \u001b[39m\u001b[34;01mwidgets\u001b[39;00m\n\u001b[32m      2\u001b[39m \u001b[38;5;28;01mfrom\u001b[39;00m\u001b[38;5;250m \u001b[39m\u001b[34;01mIPython\u001b[39;00m\u001b[34;01m.\u001b[39;00m\u001b[34;01mdisplay\u001b[39;00m\u001b[38;5;250m \u001b[39m\u001b[38;5;28;01mimport\u001b[39;00m display\n\u001b[32m----> \u001b[39m\u001b[32m3\u001b[39m display(HTML(\u001b[33m\"\u001b[39m\u001b[33m<style>.jp-InputPrompt, .jp-Cell-inputWrapper \u001b[39m\u001b[33m{\u001b[39m\u001b[33mdisplay: none;} .widget-label \u001b[39m\u001b[33m{\u001b[39m\u001b[33m font-weight: bold; }</style>\u001b[39m\u001b[33m\"\u001b[39m))\n\u001b[32m      5\u001b[39m \u001b[38;5;66;03m# Updated link map for chatbot responses\u001b[39;00m\n\u001b[32m      6\u001b[39m link_map = {\n\u001b[32m      7\u001b[39m     \u001b[33m\"\u001b[39m\u001b[33mgift card\u001b[39m\u001b[33m\"\u001b[39m: \u001b[33m\"\u001b[39m\u001b[33mhttps://www.thetanclan.in/products/the-tan-clan-gift-card\u001b[39m\u001b[33m\"\u001b[39m,\n\u001b[32m      8\u001b[39m     \u001b[33m\"\u001b[39m\u001b[33mgiftcard\u001b[39m\u001b[33m\"\u001b[39m: \u001b[33m\"\u001b[39m\u001b[33mhttps://www.thetanclan.in/products/the-tan-clan-gift-card\u001b[39m\u001b[33m\"\u001b[39m,\n\u001b[32m   (...)\u001b[39m\u001b[32m     23\u001b[39m     \u001b[33m\"\u001b[39m\u001b[33mfaqs\u001b[39m\u001b[33m\"\u001b[39m: \u001b[33m\"\u001b[39m\u001b[33mhttps://www.thetanclan.in/pages/faqs\u001b[39m\u001b[33m\"\u001b[39m,\n\u001b[32m     24\u001b[39m }\n",
      "\u001b[31mNameError\u001b[39m: name 'HTML' is not defined"
     ]
    }
   ],
   "source": [
    "import ipywidgets as widgets\n",
    "from IPython.display import display\n",
    "display(HTML(\"<style>.jp-InputPrompt, .jp-Cell-inputWrapper {display: none;} .widget-label { font-weight: bold; }</style>\"))\n",
    "\n",
    "# Updated link map for chatbot responses\n",
    "link_map = {\n",
    "    \"gift card\": \"https://www.thetanclan.in/products/the-tan-clan-gift-card\",\n",
    "    \"giftcard\": \"https://www.thetanclan.in/products/the-tan-clan-gift-card\",\n",
    "    \"contact\": \"https://www.thetanclan.in/pages/contact\",\n",
    "    \"flap bag\": \"https://www.thetanclan.in/collections/flap-bags\",\n",
    "    \"flap bags\": \"https://www.thetanclan.in/collections/flap-bags\",\n",
    "    \"potli\": \"https://www.thetanclan.in/collections/potlis\",\n",
    "    \"potlis\": \"https://www.thetanclan.in/collections/potlis\",\n",
    "    \"batua\": \"https://www.thetanclan.in/collections/batua-bags\",\n",
    "    \"batua bag\": \"https://www.thetanclan.in/collections/batua-bags\",\n",
    "    \"shoulder bag\": \"https://www.thetanclan.in/collections/shoulder-bags\",\n",
    "    \"shoulder bags\": \"https://www.thetanclan.in/collections/shoulder-bags\",\n",
    "    \"luxury collection\": \"https://www.thetanclan.in/collections/luxe-collection\",\n",
    "    \"luxe collection\": \"https://www.thetanclan.in/collections/luxe-collection\",\n",
    "    \"bestseller\": \"https://www.thetanclan.in/collections/bestseller\",\n",
    "    \"bestsellers\": \"https://www.thetanclan.in/collections/bestseller\",\n",
    "    \"faq\": \"https://www.thetanclan.in/pages/faqs\",\n",
    "    \"faqs\": \"https://www.thetanclan.in/pages/faqs\",\n",
    "}\n",
    "\n",
    "# Create chat input and output widgets\n",
    "output = widgets.Output()\n",
    "input_text = widgets.Text(\n",
    "    description=\"You:\",\n",
    "    placeholder=\"Ask me anything (e.g., 'gift card', 'flap bag')\"\n",
    ")\n",
    "send_button = widgets.Button(description=\"Send\")\n",
    "\n",
    "def on_send_button_clicked(b):\n",
    "    user_input = input_text.value.strip().lower()\n",
    "    response = \"❓ Sorry, I didn’t catch that. Try using words like ‘gift card’, ‘batua’, or ‘luxury collection’.\"\n",
    "    \n",
    "    for keyword, url in link_map.items():\n",
    "        if keyword in user_input:\n",
    "            response = f\"🔗 Here's what you're looking for: {url}\"\n",
    "            break\n",
    "    else:\n",
    "        response = \"For further details, CONTACT MAYANK JIJA\"\n",
    "\n",
    "    with output:\n",
    "        print(f\"You: {user_input}\")\n",
    "        print(f\"Nisha: {response}\\n\")\n",
    "    \n",
    "    input_text.value = \"\"  # Clear the input text field\n",
    "\n",
    "# Attach the button click event\n",
    "send_button.on_click(on_send_button_clicked)\n",
    "\n",
    "# Display the widgets\n",
    "display(input_text, send_button, output)\n",
    "\n",
    "# Initial greeting message\n",
    "with output:\n",
    "    print(\"👜 Welcome to *The Tan Clan*!\")\n",
    "    print(\"👋 I am Nisha, your online chatbot. Ask me anything.\")\n",
    "    print(\"✨ I'm here to transform you into a style icon!\")\n",
    "    print(\"💬 Try asking about: gift card, contact, potlis, batua, shoulder bags, flap bags, luxury collection, bestseller, or FAQ.\\n\")\n"
   ]
  },
  {
   "cell_type": "code",
   "execution_count": null,
   "id": "421001ac-1ccc-460b-b3a4-dcb055a6822c",
   "metadata": {},
   "outputs": [],
   "source": [
    "voila chatbot_dashboard.ipynb"
   ]
  }
 ],
 "metadata": {
  "kernelspec": {
   "display_name": "Python 3 (ipykernel)",
   "language": "python",
   "name": "python3"
  },
  "language_info": {
   "codemirror_mode": {
    "name": "ipython",
    "version": 3
   },
   "file_extension": ".py",
   "mimetype": "text/x-python",
   "name": "python",
   "nbconvert_exporter": "python",
   "pygments_lexer": "ipython3",
   "version": "3.12.4"
  }
 },
 "nbformat": 4,
 "nbformat_minor": 5
}
